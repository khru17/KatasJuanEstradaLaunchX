{
 "cells": [
  {
   "cell_type": "markdown",
   "metadata": {},
   "source": [
    "# Módulo 3 - Usar lógica booleana\n"
   ]
  },
  {
   "cell_type": "markdown",
   "metadata": {},
   "source": [
    "### Condicional if"
   ]
  },
  {
   "cell_type": "code",
   "execution_count": 1,
   "metadata": {},
   "outputs": [],
   "source": [
    "a = 97\n",
    "b = 55\n",
    "# Usando la condición if, para comparar los número a y b\n",
    "if a < b:\n",
    "    # Si es verdad la comparación, se ejecutara la siguiente línea de código\n",
    "    # En este caso no se ejecutara porque la condicion de menor que, no se cumple\n",
    "    print(b)"
   ]
  },
  {
   "cell_type": "markdown",
   "metadata": {},
   "source": [
    "Estructura sencilla de la condición If\n"
   ]
  },
  {
   "cell_type": "code",
   "execution_count": null,
   "metadata": {},
   "outputs": [],
   "source": [
    "\n",
    "# if expresion_prueba:\n",
    "#    intrucción(es) a ejecutar"
   ]
  },
  {
   "cell_type": "code",
   "execution_count": 2,
   "metadata": {},
   "outputs": [
    {
     "name": "stdout",
     "output_type": "stream",
     "text": [
      "93\n"
     ]
    }
   ],
   "source": [
    "# Segundo ejemplo de la condicion if\n",
    "a = 93\n",
    "b = 27\n",
    "if a >= b:\n",
    "    print(a)"
   ]
  },
  {
   "cell_type": "markdown",
   "metadata": {},
   "source": [
    "Es este caso sí se ejecuta la línea de código seguido del if, porque se cumple la condición mayor o igual. "
   ]
  },
  {
   "cell_type": "markdown",
   "metadata": {},
   "source": [
    "### Condifión if y else"
   ]
  },
  {
   "cell_type": "markdown",
   "metadata": {},
   "source": [
    "Ejemplo de coo se utiliza la condición if y else, para ejecutar algo cuando la sentencia evaluada es falsa"
   ]
  },
  {
   "cell_type": "code",
   "execution_count": 3,
   "metadata": {},
   "outputs": [
    {
     "name": "stdout",
     "output_type": "stream",
     "text": [
      "93\n"
     ]
    }
   ],
   "source": [
    "a = 93\n",
    "b = 27\n",
    "if a >= b:\n",
    "    # Se ejecuta si es verdadera la sentencia evaluada\n",
    "    print(a)\n",
    "else:\n",
    "    # Se ejecuta si es falsa la sentencia evaluada\n",
    "    print(b)"
   ]
  },
  {
   "cell_type": "markdown",
   "metadata": {},
   "source": [
    "En este caso se ejecuta la línea dentro del if, ya que se cumple la sentencia"
   ]
  },
  {
   "cell_type": "markdown",
   "metadata": {},
   "source": [
    "### Condicion elif\n",
    "Con esta condición, nos permite anidar diferentes if para evaluar varias expresiones de pruebas."
   ]
  },
  {
   "cell_type": "code",
   "execution_count": 1,
   "metadata": {},
   "outputs": [
    {
     "name": "stdout",
     "output_type": "stream",
     "text": [
      "a es mayor o igual que b\n"
     ]
    }
   ],
   "source": [
    "a = 93\n",
    "b = 27\n",
    "if a >= b:\n",
    "    # Se ejecuta porque es verdadera la expresión de prueba\n",
    "    print(\"a es mayor o igual que b\")\n",
    "elif a == b:\n",
    "    # Se ejecutara hasta que a sea igual a b\n",
    "    print(\"a es igual que b\")\n"
   ]
  },
  {
   "cell_type": "markdown",
   "metadata": {},
   "source": [
    "Cabe recordar que en el caso de solo usar bloques if, solo se puede tener un bloque else. Por otro lado, podemos anidad y unir la sentencias if e ilif. De la siguiente manera se presenta una estructura de ejemplo (psrucódigo)."
   ]
  },
  {
   "cell_type": "code",
   "execution_count": null,
   "metadata": {},
   "outputs": [],
   "source": [
    "# if expresion_prueba:\n",
    "#     # instrucción(es) a ejecutar\n",
    "# elif expresion_prueba:\n",
    "#     # instrucción(es) a ejecutar\n",
    "# elif expresion_prueba:\n",
    "#     # instrucción(es) a ejecutar\n",
    "# else:\n",
    "#    # instrucción(es) a ejecutar"
   ]
  },
  {
   "cell_type": "markdown",
   "metadata": {},
   "source": [
    "### Operadores 'and' y 'or'\n",
    "Estos operadores nos permiten combinar expresiones de prueba. "
   ]
  },
  {
   "cell_type": "markdown",
   "metadata": {},
   "source": [
    "En el caso del operador 'or', el resultado será True, si las dos o almenos una de ellas es verdadera. Cuando las dos son falsas, el resultado será False. A continuación, se presenta un ejemplo de este operador:"
   ]
  },
  {
   "cell_type": "code",
   "execution_count": 3,
   "metadata": {},
   "outputs": [
    {
     "name": "stdout",
     "output_type": "stream",
     "text": [
      "57\n"
     ]
    }
   ],
   "source": [
    "a = 23\n",
    "b = 34\n",
    "# Utilizando el operdor or\n",
    "if a == 34 or b == 34:\n",
    "    print (a + b)"
   ]
  },
  {
   "cell_type": "markdown",
   "metadata": {},
   "source": [
    "En el ejemplo anterior, como al menos una de las expresiones de prueba es verdadera devolvera True, por lo que se mostrara lo que esta dentro del if."
   ]
  },
  {
   "cell_type": "markdown",
   "metadata": {},
   "source": [
    "En el operador and, para que el operador devuelva True, las condiciones de prueba deben de ser verdadera, de lo contrario, devolvera False."
   ]
  },
  {
   "cell_type": "code",
   "execution_count": 5,
   "metadata": {},
   "outputs": [],
   "source": [
    "a = 23\n",
    "b = 34\n",
    "if a == 34 and b == 34:\n",
    "    print(a + b)"
   ]
  },
  {
   "cell_type": "markdown",
   "metadata": {},
   "source": [
    "En este caso no se va a ejecutar lo que esta dentro del if, ya que solo una de las expresiones de prueba es verdadera, pero la otra no, por lo tanto, esta devolvera False."
   ]
  },
  {
   "cell_type": "markdown",
   "metadata": {},
   "source": [
    "Para sabe qué esperar, es necesario invstogar las tablas de verdad del operador and y or."
   ]
  }
 ],
 "metadata": {
  "interpreter": {
   "hash": "b2262f6a833278dd9f37bcb98a360bce29b278a0c73cd11b5ce4e9c330406b07"
  },
  "kernelspec": {
   "display_name": "Python 3.10.2 64-bit",
   "language": "python",
   "name": "python3"
  },
  "language_info": {
   "codemirror_mode": {
    "name": "ipython",
    "version": 3
   },
   "file_extension": ".py",
   "mimetype": "text/x-python",
   "name": "python",
   "nbconvert_exporter": "python",
   "pygments_lexer": "ipython3",
   "version": "3.10.2"
  },
  "orig_nbformat": 4
 },
 "nbformat": 4,
 "nbformat_minor": 2
}
