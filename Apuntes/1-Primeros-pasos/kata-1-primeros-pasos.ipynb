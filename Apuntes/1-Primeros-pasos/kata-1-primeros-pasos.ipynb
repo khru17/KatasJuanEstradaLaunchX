{
 "cells": [
  {
   "cell_type": "markdown",
   "metadata": {},
   "source": [
    "### Estos son los primeros programas de la kata del modulo \"Primeros pasos\" del módulo 1\n",
    "##### Primer programa: Fecha"
   ]
  },
  {
   "cell_type": "code",
   "execution_count": 2,
   "metadata": {},
   "outputs": [],
   "source": [
    "from datetime import date"
   ]
  },
  {
   "cell_type": "markdown",
   "metadata": {},
   "source": [
    "Importando la biblioteca datetime.\n"
   ]
  },
  {
   "cell_type": "code",
   "execution_count": 3,
   "metadata": {},
   "outputs": [
    {
     "name": "stdout",
     "output_type": "stream",
     "text": [
      "Today's date is: 2022-02-09\n"
     ]
    }
   ],
   "source": [
    "print(\"Today's date is: \" + str(date.today()))"
   ]
  },
  {
   "cell_type": "markdown",
   "metadata": {},
   "source": [
    "Imprimendo un mensaje junto con la fecha actual. Cabe recordar que la función str() se utiliza para convertir el valor recibido de la función date.today() en string y así poder hacer la concatenación."
   ]
  },
  {
   "cell_type": "markdown",
   "metadata": {},
   "source": [
    "##### Segundo programa: Convertidor de unidades"
   ]
  },
  {
   "cell_type": "code",
   "execution_count": 6,
   "metadata": {},
   "outputs": [
    {
     "name": "stdout",
     "output_type": "stream",
     "text": [
      "11 parsec, is 35.877159999999996 lightyears\n"
     ]
    }
   ],
   "source": [
    "parsec = input(\"Ingrese el número de parsecs: \")\n",
    "lightyears = 3.26156 * int(parsec)\n",
    "print(str(parsec) + \" parsec, is \" + str(lightyears) +  \" lightyears\")"
   ]
  },
  {
   "cell_type": "markdown",
   "metadata": {},
   "source": [
    "En este programa se recibe un número de parsecs que se quieren convertir a años luz, y después se imprime dicha conversión. "
   ]
  }
 ],
 "metadata": {
  "interpreter": {
   "hash": "b2262f6a833278dd9f37bcb98a360bce29b278a0c73cd11b5ce4e9c330406b07"
  },
  "kernelspec": {
   "display_name": "Python 3.10.2 64-bit",
   "language": "python",
   "name": "python3"
  },
  "language_info": {
   "codemirror_mode": {
    "name": "ipython",
    "version": 3
   },
   "file_extension": ".py",
   "mimetype": "text/x-python",
   "name": "python",
   "nbconvert_exporter": "python",
   "pygments_lexer": "ipython3",
   "version": "3.10.2"
  },
  "orig_nbformat": 4
 },
 "nbformat": 4,
 "nbformat_minor": 2
}
