{
 "cells": [
  {
   "cell_type": "markdown",
   "metadata": {},
   "source": [
    "# KATA 5 - OPERACIONES\n",
    "### Ejercicio 1"
   ]
  },
  {
   "cell_type": "code",
   "execution_count": 3,
   "metadata": {},
   "outputs": [
    {
     "name": "stdout",
     "output_type": "stream",
     "text": [
      "La distancia entre Jupiter y la Tierra es: \n",
      "628949330 km\n",
      "390577533.93 milla\n"
     ]
    }
   ],
   "source": [
    "distance_earth = 149597870\n",
    "distance_jupiter = 778547200\n",
    "\n",
    "print(\"La distancia entre Jupiter y la Tierra es: \")\n",
    "print(str(abs(distance_earth - distance_jupiter)) + \" km\")\n",
    "print(str(abs(distance_earth - distance_jupiter)*0.621) + \" mi\")\n"
   ]
  },
  {
   "cell_type": "markdown",
   "metadata": {},
   "source": [
    "### Ejercicio 2"
   ]
  },
  {
   "cell_type": "code",
   "execution_count": 14,
   "metadata": {},
   "outputs": [],
   "source": [
    "first_planet = input(\"¿Cuál es el nombre del primer planeta?:\\n \")\n",
    "first_distance = int(input(\"¿Cuál es la distancia al sol del {planet} en km:\\n\".format(planet=first_planet)))\n",
    "second_planet = input(\"¿Cuál es el nombre del segundo planeta?:\\n \")\n",
    "second_distance = int(input(\"¿Cuál es la distancia al sol del {planet} en km:\\n\".format(planet=second_planet)))\n",
    "\n"
   ]
  },
  {
   "cell_type": "markdown",
   "metadata": {},
   "source": [
    "En el anterior código se solicitan los nombres y las distancia al sol de los dos planetas. Y también se convierte la cadena (número) a el tipo de dato int."
   ]
  },
  {
   "cell_type": "code",
   "execution_count": 15,
   "metadata": {},
   "outputs": [
    {
     "name": "stdout",
     "output_type": "stream",
     "text": [
      "La distancia entre Mercurio y Venus es: 50300000 km\n",
      "En mi(millas) es 31236300.0\n"
     ]
    }
   ],
   "source": [
    "distance_between = abs(first_distance - second_distance)\n",
    "print(\"La distancia entre {first_planet} y {second_planet} es: {distance} km\".format(first_planet=first_planet, second_planet=second_planet, distance = distance_between))\n",
    "print(\"En mi(millas) es \" + str(distance_between*0.621) + \" mi\")\n"
   ]
  },
  {
   "cell_type": "markdown",
   "metadata": {},
   "source": [
    "Por último se obtiene el valor absoluto con la función abs de la resta de las dos distancias introducidas por el usuario y al final se muestra dicho resultado en kilometros y millas."
   ]
  }
 ],
 "metadata": {
  "interpreter": {
   "hash": "b2262f6a833278dd9f37bcb98a360bce29b278a0c73cd11b5ce4e9c330406b07"
  },
  "kernelspec": {
   "display_name": "Python 3.10.2 64-bit",
   "language": "python",
   "name": "python3"
  },
  "language_info": {
   "codemirror_mode": {
    "name": "ipython",
    "version": 3
   },
   "file_extension": ".py",
   "mimetype": "text/x-python",
   "name": "python",
   "nbconvert_exporter": "python",
   "pygments_lexer": "ipython3",
   "version": "3.10.2"
  },
  "orig_nbformat": 4
 },
 "nbformat": 4,
 "nbformat_minor": 2
}
